{
 "cells": [
  {
   "cell_type": "code",
   "execution_count": 1,
   "id": "ee19efc5",
   "metadata": {},
   "outputs": [
    {
     "name": "stdout",
     "output_type": "stream",
     "text": [
      "/Users/ashish1610dhiman/gatech_projects/time_series_practice/notebooks/stocks_clustering\r\n"
     ]
    }
   ],
   "source": [
    "!pwd"
   ]
  },
  {
   "cell_type": "code",
   "execution_count": 2,
   "id": "fbfdc66b",
   "metadata": {},
   "outputs": [
    {
     "name": "stderr",
     "output_type": "stream",
     "text": [
      "/Users/ashish1610dhiman/opt/anaconda3/envs/time_series_practice/lib/python3.9/site-packages/tslearn/bases/bases.py:15: UserWarning: h5py not installed, hdf5 features will not be supported.\n",
      "Install h5py to use hdf5 features: http://docs.h5py.org/\n",
      "  warn(h5py_msg)\n"
     ]
    },
    {
     "data": {
      "text/plain": [
       "'3.9.15 | packaged by conda-forge | (main, Nov 22 2022, 08:55:37) \\n[Clang 14.0.6 ]'"
      ]
     },
     "execution_count": 2,
     "metadata": {},
     "output_type": "execute_result"
    }
   ],
   "source": [
    "import sys\n",
    "import matplotlib\n",
    "import numpy as np\n",
    "import pandas as pd\n",
    "import matplotlib.pyplot as plt\n",
    "\n",
    "import yfinance as yf\n",
    "import datetime\n",
    "\n",
    "from tslearn.clustering import TimeSeriesKMeans\n",
    "from tslearn.preprocessing import TimeSeriesScalerMeanVariance, TimeSeriesResampler\n",
    "\n",
    "from sklearn.metrics import adjusted_mutual_info_score as ami\n",
    "\n",
    "from tqdm.notebook import tqdm\n",
    "\n",
    "sys.version"
   ]
  },
  {
   "cell_type": "code",
   "execution_count": 3,
   "id": "95c0129b",
   "metadata": {},
   "outputs": [],
   "source": [
    "%load_ext autoreload \n",
    "%autoreload 2"
   ]
  },
  {
   "cell_type": "code",
   "execution_count": 4,
   "id": "10918500",
   "metadata": {},
   "outputs": [],
   "source": [
    "SEED = 77"
   ]
  },
  {
   "cell_type": "markdown",
   "id": "8c86535a",
   "metadata": {},
   "source": [
    "### Preprocess data"
   ]
  },
  {
   "cell_type": "code",
   "execution_count": 5,
   "id": "dc899425",
   "metadata": {},
   "outputs": [],
   "source": [
    "df_ticker = pd.read_csv(\"../../data/sp500_ticker_sector.csv\")\n",
    "stock_prices = pd.read_csv(\"../../data/sp500_stock_prices.xlsx\", header=[0, 1], low_memory=False)"
   ]
  },
  {
   "cell_type": "code",
   "execution_count": 6,
   "id": "f03aac04",
   "metadata": {},
   "outputs": [
    {
     "data": {
      "text/html": [
       "<div>\n",
       "<style scoped>\n",
       "    .dataframe tbody tr th:only-of-type {\n",
       "        vertical-align: middle;\n",
       "    }\n",
       "\n",
       "    .dataframe tbody tr th {\n",
       "        vertical-align: top;\n",
       "    }\n",
       "\n",
       "    .dataframe thead tr th {\n",
       "        text-align: left;\n",
       "    }\n",
       "</style>\n",
       "<table border=\"1\" class=\"dataframe\">\n",
       "  <thead>\n",
       "    <tr>\n",
       "      <th></th>\n",
       "      <th colspan=\"10\" halign=\"left\">Adj Close</th>\n",
       "      <th>...</th>\n",
       "      <th colspan=\"10\" halign=\"left\">Volume</th>\n",
       "    </tr>\n",
       "    <tr>\n",
       "      <th></th>\n",
       "      <th>A</th>\n",
       "      <th>AAL</th>\n",
       "      <th>AAP</th>\n",
       "      <th>AAPL</th>\n",
       "      <th>ABBV</th>\n",
       "      <th>ABC</th>\n",
       "      <th>ABT</th>\n",
       "      <th>ACGL</th>\n",
       "      <th>ACN</th>\n",
       "      <th>ADBE</th>\n",
       "      <th>...</th>\n",
       "      <th>WYNN</th>\n",
       "      <th>XEL</th>\n",
       "      <th>XOM</th>\n",
       "      <th>XRAY</th>\n",
       "      <th>XYL</th>\n",
       "      <th>YUM</th>\n",
       "      <th>ZBH</th>\n",
       "      <th>ZBRA</th>\n",
       "      <th>ZION</th>\n",
       "      <th>ZTS</th>\n",
       "    </tr>\n",
       "  </thead>\n",
       "  <tbody>\n",
       "    <tr>\n",
       "      <th>0</th>\n",
       "      <td>37.941978</td>\n",
       "      <td>51.079910</td>\n",
       "      <td>148.292755</td>\n",
       "      <td>24.603207</td>\n",
       "      <td>46.979839</td>\n",
       "      <td>79.608658</td>\n",
       "      <td>38.606461</td>\n",
       "      <td>19.496668</td>\n",
       "      <td>77.739204</td>\n",
       "      <td>72.339996</td>\n",
       "      <td>...</td>\n",
       "      <td>2228900</td>\n",
       "      <td>2534900</td>\n",
       "      <td>10220400</td>\n",
       "      <td>1825800</td>\n",
       "      <td>605900</td>\n",
       "      <td>2283466</td>\n",
       "      <td>936579</td>\n",
       "      <td>411800</td>\n",
       "      <td>2298700</td>\n",
       "      <td>1784200</td>\n",
       "    </tr>\n",
       "    <tr>\n",
       "      <th>1</th>\n",
       "      <td>37.231033</td>\n",
       "      <td>51.051483</td>\n",
       "      <td>146.338089</td>\n",
       "      <td>23.910097</td>\n",
       "      <td>46.095711</td>\n",
       "      <td>78.931030</td>\n",
       "      <td>38.615059</td>\n",
       "      <td>19.379999</td>\n",
       "      <td>76.426620</td>\n",
       "      <td>71.980003</td>\n",
       "      <td>...</td>\n",
       "      <td>1695100</td>\n",
       "      <td>3107200</td>\n",
       "      <td>18502400</td>\n",
       "      <td>1469800</td>\n",
       "      <td>1369900</td>\n",
       "      <td>4418651</td>\n",
       "      <td>2223873</td>\n",
       "      <td>420300</td>\n",
       "      <td>5326000</td>\n",
       "      <td>3112100</td>\n",
       "    </tr>\n",
       "    <tr>\n",
       "      <th>2</th>\n",
       "      <td>36.651051</td>\n",
       "      <td>50.255592</td>\n",
       "      <td>146.235245</td>\n",
       "      <td>23.912344</td>\n",
       "      <td>45.867554</td>\n",
       "      <td>79.362244</td>\n",
       "      <td>38.176548</td>\n",
       "      <td>19.423332</td>\n",
       "      <td>75.875359</td>\n",
       "      <td>70.529999</td>\n",
       "      <td>...</td>\n",
       "      <td>1975800</td>\n",
       "      <td>4749600</td>\n",
       "      <td>16670700</td>\n",
       "      <td>1988400</td>\n",
       "      <td>1333200</td>\n",
       "      <td>5004401</td>\n",
       "      <td>1835563</td>\n",
       "      <td>527500</td>\n",
       "      <td>9086500</td>\n",
       "      <td>3977200</td>\n",
       "    </tr>\n",
       "    <tr>\n",
       "      <th>3</th>\n",
       "      <td>37.137489</td>\n",
       "      <td>50.227158</td>\n",
       "      <td>149.377655</td>\n",
       "      <td>24.247646</td>\n",
       "      <td>47.721359</td>\n",
       "      <td>80.946335</td>\n",
       "      <td>38.486088</td>\n",
       "      <td>19.536667</td>\n",
       "      <td>77.467957</td>\n",
       "      <td>71.110001</td>\n",
       "      <td>...</td>\n",
       "      <td>1472000</td>\n",
       "      <td>2833400</td>\n",
       "      <td>13590700</td>\n",
       "      <td>959800</td>\n",
       "      <td>1038600</td>\n",
       "      <td>4554134</td>\n",
       "      <td>1505860</td>\n",
       "      <td>467800</td>\n",
       "      <td>2759900</td>\n",
       "      <td>2481800</td>\n",
       "    </tr>\n",
       "    <tr>\n",
       "      <th>4</th>\n",
       "      <td>38.250690</td>\n",
       "      <td>50.843033</td>\n",
       "      <td>150.686996</td>\n",
       "      <td>25.179295</td>\n",
       "      <td>48.220463</td>\n",
       "      <td>81.131142</td>\n",
       "      <td>39.277130</td>\n",
       "      <td>19.876667</td>\n",
       "      <td>78.649269</td>\n",
       "      <td>72.919998</td>\n",
       "      <td>...</td>\n",
       "      <td>1676600</td>\n",
       "      <td>2516800</td>\n",
       "      <td>15487500</td>\n",
       "      <td>1409500</td>\n",
       "      <td>821800</td>\n",
       "      <td>4258268</td>\n",
       "      <td>1449004</td>\n",
       "      <td>324400</td>\n",
       "      <td>1831500</td>\n",
       "      <td>3121300</td>\n",
       "    </tr>\n",
       "  </tbody>\n",
       "</table>\n",
       "<p>5 rows × 3018 columns</p>\n",
       "</div>"
      ],
      "text/plain": [
       "   Adj Close                                                          \\\n",
       "           A        AAL         AAP       AAPL       ABBV        ABC   \n",
       "0  37.941978  51.079910  148.292755  24.603207  46.979839  79.608658   \n",
       "1  37.231033  51.051483  146.338089  23.910097  46.095711  78.931030   \n",
       "2  36.651051  50.255592  146.235245  23.912344  45.867554  79.362244   \n",
       "3  37.137489  50.227158  149.377655  24.247646  47.721359  80.946335   \n",
       "4  38.250690  50.843033  150.686996  25.179295  48.220463  81.131142   \n",
       "\n",
       "                                               ...   Volume           \\\n",
       "         ABT       ACGL        ACN       ADBE  ...     WYNN      XEL   \n",
       "0  38.606461  19.496668  77.739204  72.339996  ...  2228900  2534900   \n",
       "1  38.615059  19.379999  76.426620  71.980003  ...  1695100  3107200   \n",
       "2  38.176548  19.423332  75.875359  70.529999  ...  1975800  4749600   \n",
       "3  38.486088  19.536667  77.467957  71.110001  ...  1472000  2833400   \n",
       "4  39.277130  19.876667  78.649269  72.919998  ...  1676600  2516800   \n",
       "\n",
       "                                                                           \n",
       "        XOM     XRAY      XYL      YUM      ZBH    ZBRA     ZION      ZTS  \n",
       "0  10220400  1825800   605900  2283466   936579  411800  2298700  1784200  \n",
       "1  18502400  1469800  1369900  4418651  2223873  420300  5326000  3112100  \n",
       "2  16670700  1988400  1333200  5004401  1835563  527500  9086500  3977200  \n",
       "3  13590700   959800  1038600  4554134  1505860  467800  2759900  2481800  \n",
       "4  15487500  1409500   821800  4258268  1449004  324400  1831500  3121300  \n",
       "\n",
       "[5 rows x 3018 columns]"
      ]
     },
     "execution_count": 6,
     "metadata": {},
     "output_type": "execute_result"
    }
   ],
   "source": [
    "stock_prices.head()"
   ]
  },
  {
   "cell_type": "code",
   "execution_count": 7,
   "id": "9bccb6f9",
   "metadata": {},
   "outputs": [
    {
     "data": {
      "text/plain": [
       "Index(['Adj Close', 'Close', 'High', 'Low', 'Open', 'Volume'], dtype='object')"
      ]
     },
     "execution_count": 7,
     "metadata": {},
     "output_type": "execute_result"
    }
   ],
   "source": [
    "stock_prices.columns.get_level_values(0).unique()"
   ]
  },
  {
   "cell_type": "code",
   "execution_count": 8,
   "id": "b1c18582",
   "metadata": {},
   "outputs": [
    {
     "ename": "KeyError",
     "evalue": "('Date', 'Unnamed: 0_level_1')",
     "output_type": "error",
     "traceback": [
      "\u001b[0;31m---------------------------------------------------------------------------\u001b[0m",
      "\u001b[0;31mKeyError\u001b[0m                                  Traceback (most recent call last)",
      "File \u001b[0;32m~/opt/anaconda3/envs/time_series_practice/lib/python3.9/site-packages/pandas/core/indexes/base.py:3803\u001b[0m, in \u001b[0;36mIndex.get_loc\u001b[0;34m(self, key, method, tolerance)\u001b[0m\n\u001b[1;32m   3802\u001b[0m \u001b[38;5;28;01mtry\u001b[39;00m:\n\u001b[0;32m-> 3803\u001b[0m     \u001b[38;5;28;01mreturn\u001b[39;00m \u001b[38;5;28;43mself\u001b[39;49m\u001b[38;5;241;43m.\u001b[39;49m\u001b[43m_engine\u001b[49m\u001b[38;5;241;43m.\u001b[39;49m\u001b[43mget_loc\u001b[49m\u001b[43m(\u001b[49m\u001b[43mcasted_key\u001b[49m\u001b[43m)\u001b[49m\n\u001b[1;32m   3804\u001b[0m \u001b[38;5;28;01mexcept\u001b[39;00m \u001b[38;5;167;01mKeyError\u001b[39;00m \u001b[38;5;28;01mas\u001b[39;00m err:\n",
      "File \u001b[0;32m~/opt/anaconda3/envs/time_series_practice/lib/python3.9/site-packages/pandas/_libs/index.pyx:138\u001b[0m, in \u001b[0;36mpandas._libs.index.IndexEngine.get_loc\u001b[0;34m()\u001b[0m\n",
      "File \u001b[0;32m~/opt/anaconda3/envs/time_series_practice/lib/python3.9/site-packages/pandas/_libs/index.pyx:165\u001b[0m, in \u001b[0;36mpandas._libs.index.IndexEngine.get_loc\u001b[0;34m()\u001b[0m\n",
      "File \u001b[0;32mpandas/_libs/hashtable_class_helper.pxi:5745\u001b[0m, in \u001b[0;36mpandas._libs.hashtable.PyObjectHashTable.get_item\u001b[0;34m()\u001b[0m\n",
      "File \u001b[0;32mpandas/_libs/hashtable_class_helper.pxi:5753\u001b[0m, in \u001b[0;36mpandas._libs.hashtable.PyObjectHashTable.get_item\u001b[0;34m()\u001b[0m\n",
      "\u001b[0;31mKeyError\u001b[0m: 'Date'",
      "\nThe above exception was the direct cause of the following exception:\n",
      "\u001b[0;31mKeyError\u001b[0m                                  Traceback (most recent call last)",
      "File \u001b[0;32m~/opt/anaconda3/envs/time_series_practice/lib/python3.9/site-packages/pandas/_libs/index.pyx:774\u001b[0m, in \u001b[0;36mpandas._libs.index.BaseMultiIndexCodesEngine.get_loc\u001b[0;34m()\u001b[0m\n",
      "File \u001b[0;32m~/opt/anaconda3/envs/time_series_practice/lib/python3.9/site-packages/pandas/core/indexes/base.py:3805\u001b[0m, in \u001b[0;36mIndex.get_loc\u001b[0;34m(self, key, method, tolerance)\u001b[0m\n\u001b[1;32m   3804\u001b[0m \u001b[38;5;28;01mexcept\u001b[39;00m \u001b[38;5;167;01mKeyError\u001b[39;00m \u001b[38;5;28;01mas\u001b[39;00m err:\n\u001b[0;32m-> 3805\u001b[0m     \u001b[38;5;28;01mraise\u001b[39;00m \u001b[38;5;167;01mKeyError\u001b[39;00m(key) \u001b[38;5;28;01mfrom\u001b[39;00m \u001b[38;5;21;01merr\u001b[39;00m\n\u001b[1;32m   3806\u001b[0m \u001b[38;5;28;01mexcept\u001b[39;00m \u001b[38;5;167;01mTypeError\u001b[39;00m:\n\u001b[1;32m   3807\u001b[0m     \u001b[38;5;66;03m# If we have a listlike key, _check_indexing_error will raise\u001b[39;00m\n\u001b[1;32m   3808\u001b[0m     \u001b[38;5;66;03m#  InvalidIndexError. Otherwise we fall through and re-raise\u001b[39;00m\n\u001b[1;32m   3809\u001b[0m     \u001b[38;5;66;03m#  the TypeError.\u001b[39;00m\n",
      "\u001b[0;31mKeyError\u001b[0m: 'Date'",
      "\nDuring handling of the above exception, another exception occurred:\n",
      "\u001b[0;31mKeyError\u001b[0m                                  Traceback (most recent call last)",
      "Cell \u001b[0;32mIn[8], line 2\u001b[0m\n\u001b[1;32m      1\u001b[0m close_prices \u001b[38;5;241m=\u001b[39m stock_prices[\u001b[38;5;124m\"\u001b[39m\u001b[38;5;124mAdj Close\u001b[39m\u001b[38;5;124m\"\u001b[39m]\n\u001b[0;32m----> 2\u001b[0m close_prices\u001b[38;5;241m.\u001b[39mindex \u001b[38;5;241m=\u001b[39m pd\u001b[38;5;241m.\u001b[39mto_datetime(\u001b[43mstock_prices\u001b[49m\u001b[43m[\u001b[49m\u001b[43m(\u001b[49m\u001b[43m     \u001b[49m\u001b[38;5;124;43m'\u001b[39;49m\u001b[38;5;124;43mDate\u001b[39;49m\u001b[38;5;124;43m'\u001b[39;49m\u001b[43m,\u001b[49m\u001b[43m \u001b[49m\u001b[38;5;124;43m'\u001b[39;49m\u001b[38;5;124;43mUnnamed: 0_level_1\u001b[39;49m\u001b[38;5;124;43m'\u001b[39;49m\u001b[43m)\u001b[49m\u001b[43m]\u001b[49m\u001b[38;5;241m.\u001b[39mvalues)\n\u001b[1;32m      4\u001b[0m close_prices\u001b[38;5;241m.\u001b[39mhead()\n",
      "File \u001b[0;32m~/opt/anaconda3/envs/time_series_practice/lib/python3.9/site-packages/pandas/core/frame.py:3804\u001b[0m, in \u001b[0;36mDataFrame.__getitem__\u001b[0;34m(self, key)\u001b[0m\n\u001b[1;32m   3802\u001b[0m \u001b[38;5;28;01mif\u001b[39;00m is_single_key:\n\u001b[1;32m   3803\u001b[0m     \u001b[38;5;28;01mif\u001b[39;00m \u001b[38;5;28mself\u001b[39m\u001b[38;5;241m.\u001b[39mcolumns\u001b[38;5;241m.\u001b[39mnlevels \u001b[38;5;241m>\u001b[39m \u001b[38;5;241m1\u001b[39m:\n\u001b[0;32m-> 3804\u001b[0m         \u001b[38;5;28;01mreturn\u001b[39;00m \u001b[38;5;28;43mself\u001b[39;49m\u001b[38;5;241;43m.\u001b[39;49m\u001b[43m_getitem_multilevel\u001b[49m\u001b[43m(\u001b[49m\u001b[43mkey\u001b[49m\u001b[43m)\u001b[49m\n\u001b[1;32m   3805\u001b[0m     indexer \u001b[38;5;241m=\u001b[39m \u001b[38;5;28mself\u001b[39m\u001b[38;5;241m.\u001b[39mcolumns\u001b[38;5;241m.\u001b[39mget_loc(key)\n\u001b[1;32m   3806\u001b[0m     \u001b[38;5;28;01mif\u001b[39;00m is_integer(indexer):\n",
      "File \u001b[0;32m~/opt/anaconda3/envs/time_series_practice/lib/python3.9/site-packages/pandas/core/frame.py:3855\u001b[0m, in \u001b[0;36mDataFrame._getitem_multilevel\u001b[0;34m(self, key)\u001b[0m\n\u001b[1;32m   3853\u001b[0m \u001b[38;5;28;01mdef\u001b[39;00m \u001b[38;5;21m_getitem_multilevel\u001b[39m(\u001b[38;5;28mself\u001b[39m, key):\n\u001b[1;32m   3854\u001b[0m     \u001b[38;5;66;03m# self.columns is a MultiIndex\u001b[39;00m\n\u001b[0;32m-> 3855\u001b[0m     loc \u001b[38;5;241m=\u001b[39m \u001b[38;5;28;43mself\u001b[39;49m\u001b[38;5;241;43m.\u001b[39;49m\u001b[43mcolumns\u001b[49m\u001b[38;5;241;43m.\u001b[39;49m\u001b[43mget_loc\u001b[49m\u001b[43m(\u001b[49m\u001b[43mkey\u001b[49m\u001b[43m)\u001b[49m\n\u001b[1;32m   3856\u001b[0m     \u001b[38;5;28;01mif\u001b[39;00m \u001b[38;5;28misinstance\u001b[39m(loc, (\u001b[38;5;28mslice\u001b[39m, np\u001b[38;5;241m.\u001b[39mndarray)):\n\u001b[1;32m   3857\u001b[0m         new_columns \u001b[38;5;241m=\u001b[39m \u001b[38;5;28mself\u001b[39m\u001b[38;5;241m.\u001b[39mcolumns[loc]\n",
      "File \u001b[0;32m~/opt/anaconda3/envs/time_series_practice/lib/python3.9/site-packages/pandas/core/indexes/multi.py:2927\u001b[0m, in \u001b[0;36mMultiIndex.get_loc\u001b[0;34m(self, key, method)\u001b[0m\n\u001b[1;32m   2925\u001b[0m \u001b[38;5;28;01mif\u001b[39;00m keylen \u001b[38;5;241m==\u001b[39m \u001b[38;5;28mself\u001b[39m\u001b[38;5;241m.\u001b[39mnlevels \u001b[38;5;129;01mand\u001b[39;00m \u001b[38;5;28mself\u001b[39m\u001b[38;5;241m.\u001b[39mis_unique:\n\u001b[1;32m   2926\u001b[0m     \u001b[38;5;28;01mtry\u001b[39;00m:\n\u001b[0;32m-> 2927\u001b[0m         \u001b[38;5;28;01mreturn\u001b[39;00m \u001b[38;5;28;43mself\u001b[39;49m\u001b[38;5;241;43m.\u001b[39;49m\u001b[43m_engine\u001b[49m\u001b[38;5;241;43m.\u001b[39;49m\u001b[43mget_loc\u001b[49m\u001b[43m(\u001b[49m\u001b[43mkey\u001b[49m\u001b[43m)\u001b[49m\n\u001b[1;32m   2928\u001b[0m     \u001b[38;5;28;01mexcept\u001b[39;00m \u001b[38;5;167;01mTypeError\u001b[39;00m:\n\u001b[1;32m   2929\u001b[0m         \u001b[38;5;66;03m# e.g. test_partial_slicing_with_multiindex partial string slicing\u001b[39;00m\n\u001b[1;32m   2930\u001b[0m         loc, _ \u001b[38;5;241m=\u001b[39m \u001b[38;5;28mself\u001b[39m\u001b[38;5;241m.\u001b[39mget_loc_level(key, \u001b[38;5;28mlist\u001b[39m(\u001b[38;5;28mrange\u001b[39m(\u001b[38;5;28mself\u001b[39m\u001b[38;5;241m.\u001b[39mnlevels)))\n",
      "File \u001b[0;32m~/opt/anaconda3/envs/time_series_practice/lib/python3.9/site-packages/pandas/_libs/index.pyx:777\u001b[0m, in \u001b[0;36mpandas._libs.index.BaseMultiIndexCodesEngine.get_loc\u001b[0;34m()\u001b[0m\n",
      "\u001b[0;31mKeyError\u001b[0m: ('Date', 'Unnamed: 0_level_1')"
     ]
    }
   ],
   "source": [
    "close_prices = stock_prices[\"Adj Close\"]\n",
    "close_prices.index = pd.to_datetime(stock_prices[(     'Date', 'Unnamed: 0_level_1')].values)\n",
    "\n",
    "close_prices.head()"
   ]
  },
  {
   "cell_type": "code",
   "execution_count": null,
   "id": "9b707188",
   "metadata": {},
   "outputs": [],
   "source": [
    "close_prices.info()"
   ]
  },
  {
   "cell_type": "code",
   "execution_count": null,
   "id": "1eb6c2f7",
   "metadata": {},
   "outputs": [],
   "source": [
    "close_prices.shape, close_prices.dropna(axis=1).shape, close_prices.dropna(axis=1).isna().sum().sum()"
   ]
  },
  {
   "cell_type": "code",
   "execution_count": null,
   "id": "7968179f",
   "metadata": {},
   "outputs": [],
   "source": [
    "close_prices = close_prices.dropna(axis=1)\n",
    "close_prices.shape"
   ]
  },
  {
   "cell_type": "code",
   "execution_count": null,
   "id": "d1acbd77",
   "metadata": {},
   "outputs": [],
   "source": [
    "close_prices.index = pd.to_datetime(close_prices.index)"
   ]
  },
  {
   "cell_type": "code",
   "execution_count": null,
   "id": "e285dea4",
   "metadata": {},
   "outputs": [],
   "source": [
    "close_prices = close_prices[\"2018\":]\n",
    "close_prices.shape"
   ]
  },
  {
   "cell_type": "code",
   "execution_count": null,
   "id": "354035bc",
   "metadata": {},
   "outputs": [],
   "source": [
    "close_prices.to_csv(\"../../data/sp500_close_prices.csv\")"
   ]
  },
  {
   "cell_type": "markdown",
   "id": "2adbf2f6",
   "metadata": {},
   "source": [
    "#### Sample plots"
   ]
  },
  {
   "cell_type": "code",
   "execution_count": null,
   "id": "b7c01cf1",
   "metadata": {},
   "outputs": [],
   "source": [
    "close_prices[list(close_prices.columns)[:10]].plot()"
   ]
  },
  {
   "cell_type": "code",
   "execution_count": null,
   "id": "0f45736a",
   "metadata": {},
   "outputs": [],
   "source": [
    "close_prices[list(close_prices.columns)[200:210]].plot()"
   ]
  },
  {
   "cell_type": "markdown",
   "id": "024b5dbc",
   "metadata": {},
   "source": [
    "#### Sectors available"
   ]
  },
  {
   "cell_type": "code",
   "execution_count": null,
   "id": "f31b9bf4",
   "metadata": {},
   "outputs": [],
   "source": [
    "df_ticker.head()"
   ]
  },
  {
   "cell_type": "code",
   "execution_count": null,
   "id": "64791d1d",
   "metadata": {},
   "outputs": [],
   "source": [
    "df_ticker[\"GICS Sector\"].value_counts(),df_ticker[\"GICS Sector\"].nunique()"
   ]
  },
  {
   "cell_type": "markdown",
   "id": "9a9ea5ff",
   "metadata": {},
   "source": [
    "### Time Series Clustering\n",
    "#### Preprocess time series data"
   ]
  },
  {
   "cell_type": "code",
   "execution_count": null,
   "id": "dd6b8705",
   "metadata": {},
   "outputs": [],
   "source": [
    "close_prices.shape"
   ]
  },
  {
   "cell_type": "code",
   "execution_count": null,
   "id": "f95e8dcc",
   "metadata": {},
   "outputs": [],
   "source": [
    "#we have 479 time series\n",
    "X_train = TimeSeriesScalerMeanVariance().fit_transform(close_prices.T)\n",
    "X_train.shape"
   ]
  },
  {
   "cell_type": "code",
   "execution_count": null,
   "id": "577e5906",
   "metadata": {},
   "outputs": [],
   "source": [
    "get_sector = lambda x: df_ticker[df_ticker.Symbol==x][\"GICS Sector\"].values[0]"
   ]
  },
  {
   "cell_type": "code",
   "execution_count": null,
   "id": "1afc774e",
   "metadata": {},
   "outputs": [],
   "source": [
    "get_sector(\"MMM\")"
   ]
  },
  {
   "cell_type": "code",
   "execution_count": null,
   "id": "4c6eb415",
   "metadata": {},
   "outputs": [],
   "source": [
    "y_train = np.array([get_sector(tick) for tick in close_prices.columns])\n",
    "y_train.shape"
   ]
  },
  {
   "cell_type": "code",
   "execution_count": null,
   "id": "4b4643cd",
   "metadata": {},
   "outputs": [],
   "source": [
    "pd.DataFrame(X_train[:20,:,0].T).plot()"
   ]
  },
  {
   "cell_type": "markdown",
   "id": "f660c11f",
   "metadata": {},
   "source": [
    "#### Plot all sectors together"
   ]
  },
  {
   "cell_type": "code",
   "execution_count": null,
   "id": "bd4ae407",
   "metadata": {},
   "outputs": [],
   "source": [
    "import matplotlib\n",
    "matplotlib.rcParams['figure.figsize'] = [12, 5]"
   ]
  },
  {
   "cell_type": "code",
   "execution_count": null,
   "id": "01f08efb",
   "metadata": {},
   "outputs": [],
   "source": [
    "for sector in set(y_train):\n",
    "    stocks_with_sector = y_train==sector\n",
    "    df_subset = close_prices.loc[:,stocks_with_sector]\n",
    "    sector_cols = df_subset.columns\n",
    "    scaled_subset = pd.DataFrame(X_train[stocks_with_sector,:,0].T,\\\n",
    "                            columns = sector_cols)\n",
    "    scaled_subset.index = df_subset.index\n",
    "    random_columns = np.random.choice(sector_cols,size = min(10,len(scaled_subset)))\n",
    "    fig, axes = plt.subplots(nrows=2, ncols=1, sharex=True)\n",
    "    df_subset[random_columns].plot(ax=axes[0], title =f\"{sector} | original\")\n",
    "    scaled_subset[random_columns].plot(ax=axes[1], title =f\"{sector} | scaled\")"
   ]
  },
  {
   "cell_type": "markdown",
   "id": "9876d549",
   "metadata": {},
   "source": [
    "### Time series clustering"
   ]
  },
  {
   "cell_type": "code",
   "execution_count": null,
   "id": "2817e5db",
   "metadata": {},
   "outputs": [],
   "source": [
    "### dummy data\n",
    "from tslearn.datasets import CachedDatasets\n",
    "X_train1, y_train1, X_test1, y_test1 = CachedDatasets().load_dataset(\"Trace\")\n",
    "X_train1 = X_train1[y_train1 < 4]  # Keep first 3 classes\n",
    "X_train1.shape, y_train1.shape"
   ]
  },
  {
   "cell_type": "code",
   "execution_count": null,
   "id": "b2470e51",
   "metadata": {},
   "outputs": [],
   "source": [
    "X_train1.shape"
   ]
  },
  {
   "cell_type": "code",
   "execution_count": null,
   "id": "44f679c7",
   "metadata": {},
   "outputs": [],
   "source": [
    "X_train.shape"
   ]
  },
  {
   "cell_type": "code",
   "execution_count": null,
   "id": "fe432df5",
   "metadata": {},
   "outputs": [],
   "source": [
    "def ad_clustering(X_train,y_train,k, seed = SEED):\n",
    "    model = TimeSeriesKMeans(n_clusters=k,\n",
    "                          n_init=2,\n",
    "                          metric=\"dtw\",\n",
    "                          verbose=False,\n",
    "                          max_iter_barycenter=10,tol=1e-4,\n",
    "                          random_state=seed,n_jobs=-1)\n",
    "    y_pred = model.fit_predict(X_train)\n",
    "    ami1 = ami(labels_true = y_train, labels_pred = y_pred)\n",
    "    return (model,y_pred,ami1)"
   ]
  },
  {
   "cell_type": "code",
   "execution_count": null,
   "id": "2f8cf1af",
   "metadata": {},
   "outputs": [],
   "source": [
    "X_train[:10,1000:,].shape"
   ]
  },
  {
   "cell_type": "code",
   "execution_count": null,
   "id": "32499858",
   "metadata": {},
   "outputs": [],
   "source": [
    "result_dict={}\n",
    "for k in tqdm(range(5,20)):\n",
    "    result_dict[k] = ad_clustering(X_train[:10,1000:,],y_train[:10],k)\n",
    "    print (f\"For k = {k}, ami = {ami:.5%}\")"
   ]
  },
  {
   "cell_type": "code",
   "execution_count": null,
   "id": "23540481",
   "metadata": {},
   "outputs": [],
   "source": []
  },
  {
   "cell_type": "code",
   "execution_count": null,
   "id": "6213a72e",
   "metadata": {},
   "outputs": [],
   "source": []
  },
  {
   "cell_type": "code",
   "execution_count": null,
   "id": "1292003e",
   "metadata": {},
   "outputs": [],
   "source": []
  },
  {
   "cell_type": "code",
   "execution_count": null,
   "id": "e545e7a7",
   "metadata": {},
   "outputs": [],
   "source": []
  },
  {
   "cell_type": "code",
   "execution_count": null,
   "id": "cd77195a",
   "metadata": {},
   "outputs": [],
   "source": []
  },
  {
   "cell_type": "code",
   "execution_count": null,
   "id": "ef5f6f85",
   "metadata": {},
   "outputs": [],
   "source": []
  }
 ],
 "metadata": {
  "kernelspec": {
   "display_name": "Python 3 (ipykernel)",
   "language": "python",
   "name": "python3"
  },
  "language_info": {
   "codemirror_mode": {
    "name": "ipython",
    "version": 3
   },
   "file_extension": ".py",
   "mimetype": "text/x-python",
   "name": "python",
   "nbconvert_exporter": "python",
   "pygments_lexer": "ipython3",
   "version": "3.9.15"
  }
 },
 "nbformat": 4,
 "nbformat_minor": 5
}
