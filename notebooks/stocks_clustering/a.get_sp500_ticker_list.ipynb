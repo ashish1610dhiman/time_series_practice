{
 "cells": [
  {
   "cell_type": "code",
   "execution_count": 1,
   "id": "e54665ee",
   "metadata": {},
   "outputs": [
    {
     "name": "stdout",
     "output_type": "stream",
     "text": [
      "/Users/ashish1610dhiman/gatech_projects/time_series_practice/notebooks/stocks_clustering\r\n"
     ]
    }
   ],
   "source": [
    "!pwd"
   ]
  },
  {
   "cell_type": "code",
   "execution_count": 2,
   "id": "d80a6ee4",
   "metadata": {},
   "outputs": [
    {
     "data": {
      "text/plain": [
       "'3.9.15 | packaged by conda-forge | (main, Nov 22 2022, 08:55:37) \\n[Clang 14.0.6 ]'"
      ]
     },
     "execution_count": 2,
     "metadata": {},
     "output_type": "execute_result"
    }
   ],
   "source": [
    "import sys\n",
    "import matplotlib\n",
    "import numpy as np\n",
    "import pandas as pd\n",
    "import matplotlib.pyplot as plt\n",
    "\n",
    "import yfinance as yf\n",
    "import datetime\n",
    "\n",
    "sys.version"
   ]
  },
  {
   "cell_type": "code",
   "execution_count": 3,
   "id": "4efcc666",
   "metadata": {},
   "outputs": [],
   "source": [
    "%load_ext autoreload \n",
    "%autoreload 2"
   ]
  },
  {
   "cell_type": "markdown",
   "id": "aa3d17d6",
   "metadata": {},
   "source": [
    "### Get S&P 500 Ticker list"
   ]
  },
  {
   "cell_type": "code",
   "execution_count": 4,
   "id": "8e616718",
   "metadata": {},
   "outputs": [],
   "source": [
    "table=pd.read_html('https://en.wikipedia.org/wiki/List_of_S%26P_500_companies')\n",
    "df_ticker = table[0]"
   ]
  },
  {
   "cell_type": "code",
   "execution_count": 5,
   "id": "d10ccbd8",
   "metadata": {},
   "outputs": [
    {
     "data": {
      "text/html": [
       "<div>\n",
       "<style scoped>\n",
       "    .dataframe tbody tr th:only-of-type {\n",
       "        vertical-align: middle;\n",
       "    }\n",
       "\n",
       "    .dataframe tbody tr th {\n",
       "        vertical-align: top;\n",
       "    }\n",
       "\n",
       "    .dataframe thead th {\n",
       "        text-align: right;\n",
       "    }\n",
       "</style>\n",
       "<table border=\"1\" class=\"dataframe\">\n",
       "  <thead>\n",
       "    <tr style=\"text-align: right;\">\n",
       "      <th></th>\n",
       "      <th>Symbol</th>\n",
       "      <th>Security</th>\n",
       "      <th>SEC filings</th>\n",
       "      <th>GICS Sector</th>\n",
       "      <th>GICS Sub-Industry</th>\n",
       "      <th>Headquarters Location</th>\n",
       "      <th>Date first added</th>\n",
       "      <th>CIK</th>\n",
       "      <th>Founded</th>\n",
       "    </tr>\n",
       "  </thead>\n",
       "  <tbody>\n",
       "    <tr>\n",
       "      <th>0</th>\n",
       "      <td>MMM</td>\n",
       "      <td>3M</td>\n",
       "      <td>reports</td>\n",
       "      <td>Industrials</td>\n",
       "      <td>Industrial Conglomerates</td>\n",
       "      <td>Saint Paul, Minnesota</td>\n",
       "      <td>1976-08-09</td>\n",
       "      <td>66740</td>\n",
       "      <td>1902</td>\n",
       "    </tr>\n",
       "    <tr>\n",
       "      <th>1</th>\n",
       "      <td>AOS</td>\n",
       "      <td>A. O. Smith</td>\n",
       "      <td>reports</td>\n",
       "      <td>Industrials</td>\n",
       "      <td>Building Products</td>\n",
       "      <td>Milwaukee, Wisconsin</td>\n",
       "      <td>2017-07-26</td>\n",
       "      <td>91142</td>\n",
       "      <td>1916</td>\n",
       "    </tr>\n",
       "    <tr>\n",
       "      <th>2</th>\n",
       "      <td>ABT</td>\n",
       "      <td>Abbott</td>\n",
       "      <td>reports</td>\n",
       "      <td>Health Care</td>\n",
       "      <td>Health Care Equipment</td>\n",
       "      <td>North Chicago, Illinois</td>\n",
       "      <td>1964-03-31</td>\n",
       "      <td>1800</td>\n",
       "      <td>1888</td>\n",
       "    </tr>\n",
       "    <tr>\n",
       "      <th>3</th>\n",
       "      <td>ABBV</td>\n",
       "      <td>AbbVie</td>\n",
       "      <td>reports</td>\n",
       "      <td>Health Care</td>\n",
       "      <td>Pharmaceuticals</td>\n",
       "      <td>North Chicago, Illinois</td>\n",
       "      <td>2012-12-31</td>\n",
       "      <td>1551152</td>\n",
       "      <td>2013 (1888)</td>\n",
       "    </tr>\n",
       "    <tr>\n",
       "      <th>4</th>\n",
       "      <td>ACN</td>\n",
       "      <td>Accenture</td>\n",
       "      <td>reports</td>\n",
       "      <td>Information Technology</td>\n",
       "      <td>IT Consulting &amp; Other Services</td>\n",
       "      <td>Dublin, Ireland</td>\n",
       "      <td>2011-07-06</td>\n",
       "      <td>1467373</td>\n",
       "      <td>1989</td>\n",
       "    </tr>\n",
       "  </tbody>\n",
       "</table>\n",
       "</div>"
      ],
      "text/plain": [
       "  Symbol     Security SEC filings             GICS Sector  \\\n",
       "0    MMM           3M     reports             Industrials   \n",
       "1    AOS  A. O. Smith     reports             Industrials   \n",
       "2    ABT       Abbott     reports             Health Care   \n",
       "3   ABBV       AbbVie     reports             Health Care   \n",
       "4    ACN    Accenture     reports  Information Technology   \n",
       "\n",
       "                GICS Sub-Industry    Headquarters Location Date first added  \\\n",
       "0        Industrial Conglomerates    Saint Paul, Minnesota       1976-08-09   \n",
       "1               Building Products     Milwaukee, Wisconsin       2017-07-26   \n",
       "2           Health Care Equipment  North Chicago, Illinois       1964-03-31   \n",
       "3                 Pharmaceuticals  North Chicago, Illinois       2012-12-31   \n",
       "4  IT Consulting & Other Services          Dublin, Ireland       2011-07-06   \n",
       "\n",
       "       CIK      Founded  \n",
       "0    66740         1902  \n",
       "1    91142         1916  \n",
       "2     1800         1888  \n",
       "3  1551152  2013 (1888)  \n",
       "4  1467373         1989  "
      ]
     },
     "execution_count": 5,
     "metadata": {},
     "output_type": "execute_result"
    }
   ],
   "source": [
    "df_ticker.head()"
   ]
  },
  {
   "cell_type": "code",
   "execution_count": 6,
   "id": "e09461c8",
   "metadata": {},
   "outputs": [
    {
     "data": {
      "text/plain": [
       "(503, 9)"
      ]
     },
     "execution_count": 6,
     "metadata": {},
     "output_type": "execute_result"
    }
   ],
   "source": [
    "df_ticker.shape"
   ]
  },
  {
   "cell_type": "code",
   "execution_count": 7,
   "id": "907cb8ff",
   "metadata": {},
   "outputs": [],
   "source": [
    "df_ticker.to_csv(\"../../data/sp500_ticker_sector.csv\",index=False)"
   ]
  },
  {
   "cell_type": "markdown",
   "id": "782df58c",
   "metadata": {},
   "source": [
    "### Scrape daily stock data for 500 tickers"
   ]
  },
  {
   "cell_type": "code",
   "execution_count": 8,
   "id": "192f7afe",
   "metadata": {},
   "outputs": [],
   "source": [
    "start = datetime.datetime(2015, 1, 1)\n",
    "end = datetime.datetime(2022, 11, 30)"
   ]
  },
  {
   "cell_type": "code",
   "execution_count": 9,
   "id": "69bbb643",
   "metadata": {},
   "outputs": [
    {
     "data": {
      "text/plain": [
       "['MMM', 'AOS', 'ABT', 'ABBV', 'ACN']"
      ]
     },
     "execution_count": 9,
     "metadata": {},
     "output_type": "execute_result"
    }
   ],
   "source": [
    "tickers = list(df_ticker[\"Symbol\"])\n",
    "tickers[:5]"
   ]
  },
  {
   "cell_type": "code",
   "execution_count": 10,
   "id": "0147bc47",
   "metadata": {},
   "outputs": [
    {
     "name": "stdout",
     "output_type": "stream",
     "text": [
      "[*********************100%***********************]  503 of 503 completed\n",
      "\n",
      "2 Failed downloads:\n",
      "- BF.B: No data found for this date range, symbol may be delisted\n",
      "- BRK.B: No timezone found, symbol may be delisted\n"
     ]
    }
   ],
   "source": [
    "stock_prices = yf.download(tickers, start=start, end=end)"
   ]
  },
  {
   "cell_type": "code",
   "execution_count": 11,
   "id": "5c7e5aa9",
   "metadata": {},
   "outputs": [
    {
     "data": {
      "text/html": [
       "<div>\n",
       "<style scoped>\n",
       "    .dataframe tbody tr th:only-of-type {\n",
       "        vertical-align: middle;\n",
       "    }\n",
       "\n",
       "    .dataframe tbody tr th {\n",
       "        vertical-align: top;\n",
       "    }\n",
       "\n",
       "    .dataframe thead tr th {\n",
       "        text-align: left;\n",
       "    }\n",
       "\n",
       "    .dataframe thead tr:last-of-type th {\n",
       "        text-align: right;\n",
       "    }\n",
       "</style>\n",
       "<table border=\"1\" class=\"dataframe\">\n",
       "  <thead>\n",
       "    <tr>\n",
       "      <th></th>\n",
       "      <th colspan=\"10\" halign=\"left\">Adj Close</th>\n",
       "      <th>...</th>\n",
       "      <th colspan=\"10\" halign=\"left\">Volume</th>\n",
       "    </tr>\n",
       "    <tr>\n",
       "      <th></th>\n",
       "      <th>A</th>\n",
       "      <th>AAL</th>\n",
       "      <th>AAP</th>\n",
       "      <th>AAPL</th>\n",
       "      <th>ABBV</th>\n",
       "      <th>ABC</th>\n",
       "      <th>ABT</th>\n",
       "      <th>ACGL</th>\n",
       "      <th>ACN</th>\n",
       "      <th>ADBE</th>\n",
       "      <th>...</th>\n",
       "      <th>WYNN</th>\n",
       "      <th>XEL</th>\n",
       "      <th>XOM</th>\n",
       "      <th>XRAY</th>\n",
       "      <th>XYL</th>\n",
       "      <th>YUM</th>\n",
       "      <th>ZBH</th>\n",
       "      <th>ZBRA</th>\n",
       "      <th>ZION</th>\n",
       "      <th>ZTS</th>\n",
       "    </tr>\n",
       "    <tr>\n",
       "      <th>Date</th>\n",
       "      <th></th>\n",
       "      <th></th>\n",
       "      <th></th>\n",
       "      <th></th>\n",
       "      <th></th>\n",
       "      <th></th>\n",
       "      <th></th>\n",
       "      <th></th>\n",
       "      <th></th>\n",
       "      <th></th>\n",
       "      <th></th>\n",
       "      <th></th>\n",
       "      <th></th>\n",
       "      <th></th>\n",
       "      <th></th>\n",
       "      <th></th>\n",
       "      <th></th>\n",
       "      <th></th>\n",
       "      <th></th>\n",
       "      <th></th>\n",
       "      <th></th>\n",
       "    </tr>\n",
       "  </thead>\n",
       "  <tbody>\n",
       "    <tr>\n",
       "      <th>2015-01-02 00:00:00</th>\n",
       "      <td>37.941978</td>\n",
       "      <td>51.079910</td>\n",
       "      <td>148.292755</td>\n",
       "      <td>24.603207</td>\n",
       "      <td>46.979839</td>\n",
       "      <td>79.608658</td>\n",
       "      <td>38.606461</td>\n",
       "      <td>19.496668</td>\n",
       "      <td>77.739204</td>\n",
       "      <td>72.339996</td>\n",
       "      <td>...</td>\n",
       "      <td>2228900</td>\n",
       "      <td>2534900</td>\n",
       "      <td>10220400</td>\n",
       "      <td>1825800</td>\n",
       "      <td>605900</td>\n",
       "      <td>2283466</td>\n",
       "      <td>936579</td>\n",
       "      <td>411800</td>\n",
       "      <td>2298700</td>\n",
       "      <td>1784200</td>\n",
       "    </tr>\n",
       "    <tr>\n",
       "      <th>2015-01-05 00:00:00</th>\n",
       "      <td>37.231033</td>\n",
       "      <td>51.051483</td>\n",
       "      <td>146.338089</td>\n",
       "      <td>23.910097</td>\n",
       "      <td>46.095711</td>\n",
       "      <td>78.931030</td>\n",
       "      <td>38.615059</td>\n",
       "      <td>19.379999</td>\n",
       "      <td>76.426620</td>\n",
       "      <td>71.980003</td>\n",
       "      <td>...</td>\n",
       "      <td>1695100</td>\n",
       "      <td>3107200</td>\n",
       "      <td>18502400</td>\n",
       "      <td>1469800</td>\n",
       "      <td>1369900</td>\n",
       "      <td>4418651</td>\n",
       "      <td>2223873</td>\n",
       "      <td>420300</td>\n",
       "      <td>5326000</td>\n",
       "      <td>3112100</td>\n",
       "    </tr>\n",
       "    <tr>\n",
       "      <th>2015-01-06 00:00:00</th>\n",
       "      <td>36.651051</td>\n",
       "      <td>50.255592</td>\n",
       "      <td>146.235245</td>\n",
       "      <td>23.912344</td>\n",
       "      <td>45.867554</td>\n",
       "      <td>79.362244</td>\n",
       "      <td>38.176548</td>\n",
       "      <td>19.423332</td>\n",
       "      <td>75.875359</td>\n",
       "      <td>70.529999</td>\n",
       "      <td>...</td>\n",
       "      <td>1975800</td>\n",
       "      <td>4749600</td>\n",
       "      <td>16670700</td>\n",
       "      <td>1988400</td>\n",
       "      <td>1333200</td>\n",
       "      <td>5004401</td>\n",
       "      <td>1835563</td>\n",
       "      <td>527500</td>\n",
       "      <td>9086500</td>\n",
       "      <td>3977200</td>\n",
       "    </tr>\n",
       "    <tr>\n",
       "      <th>2015-01-07 00:00:00</th>\n",
       "      <td>37.137489</td>\n",
       "      <td>50.227158</td>\n",
       "      <td>149.377655</td>\n",
       "      <td>24.247646</td>\n",
       "      <td>47.721359</td>\n",
       "      <td>80.946335</td>\n",
       "      <td>38.486088</td>\n",
       "      <td>19.536667</td>\n",
       "      <td>77.467957</td>\n",
       "      <td>71.110001</td>\n",
       "      <td>...</td>\n",
       "      <td>1472000</td>\n",
       "      <td>2833400</td>\n",
       "      <td>13590700</td>\n",
       "      <td>959800</td>\n",
       "      <td>1038600</td>\n",
       "      <td>4554134</td>\n",
       "      <td>1505860</td>\n",
       "      <td>467800</td>\n",
       "      <td>2759900</td>\n",
       "      <td>2481800</td>\n",
       "    </tr>\n",
       "    <tr>\n",
       "      <th>2015-01-08 00:00:00</th>\n",
       "      <td>38.250690</td>\n",
       "      <td>50.843033</td>\n",
       "      <td>150.686996</td>\n",
       "      <td>25.179295</td>\n",
       "      <td>48.220463</td>\n",
       "      <td>81.131142</td>\n",
       "      <td>39.277130</td>\n",
       "      <td>19.876667</td>\n",
       "      <td>78.649269</td>\n",
       "      <td>72.919998</td>\n",
       "      <td>...</td>\n",
       "      <td>1676600</td>\n",
       "      <td>2516800</td>\n",
       "      <td>15487500</td>\n",
       "      <td>1409500</td>\n",
       "      <td>821800</td>\n",
       "      <td>4258268</td>\n",
       "      <td>1449004</td>\n",
       "      <td>324400</td>\n",
       "      <td>1831500</td>\n",
       "      <td>3121300</td>\n",
       "    </tr>\n",
       "  </tbody>\n",
       "</table>\n",
       "<p>5 rows × 3018 columns</p>\n",
       "</div>"
      ],
      "text/plain": [
       "                     Adj Close                                               \\\n",
       "                             A        AAL         AAP       AAPL       ABBV   \n",
       "Date                                                                          \n",
       "2015-01-02 00:00:00  37.941978  51.079910  148.292755  24.603207  46.979839   \n",
       "2015-01-05 00:00:00  37.231033  51.051483  146.338089  23.910097  46.095711   \n",
       "2015-01-06 00:00:00  36.651051  50.255592  146.235245  23.912344  45.867554   \n",
       "2015-01-07 00:00:00  37.137489  50.227158  149.377655  24.247646  47.721359   \n",
       "2015-01-08 00:00:00  38.250690  50.843033  150.686996  25.179295  48.220463   \n",
       "\n",
       "                                                                            \\\n",
       "                           ABC        ABT       ACGL        ACN       ADBE   \n",
       "Date                                                                         \n",
       "2015-01-02 00:00:00  79.608658  38.606461  19.496668  77.739204  72.339996   \n",
       "2015-01-05 00:00:00  78.931030  38.615059  19.379999  76.426620  71.980003   \n",
       "2015-01-06 00:00:00  79.362244  38.176548  19.423332  75.875359  70.529999   \n",
       "2015-01-07 00:00:00  80.946335  38.486088  19.536667  77.467957  71.110001   \n",
       "2015-01-08 00:00:00  81.131142  39.277130  19.876667  78.649269  72.919998   \n",
       "\n",
       "                     ...   Volume                                       \\\n",
       "                     ...     WYNN      XEL       XOM     XRAY      XYL   \n",
       "Date                 ...                                                 \n",
       "2015-01-02 00:00:00  ...  2228900  2534900  10220400  1825800   605900   \n",
       "2015-01-05 00:00:00  ...  1695100  3107200  18502400  1469800  1369900   \n",
       "2015-01-06 00:00:00  ...  1975800  4749600  16670700  1988400  1333200   \n",
       "2015-01-07 00:00:00  ...  1472000  2833400  13590700   959800  1038600   \n",
       "2015-01-08 00:00:00  ...  1676600  2516800  15487500  1409500   821800   \n",
       "\n",
       "                                                                 \n",
       "                         YUM      ZBH    ZBRA     ZION      ZTS  \n",
       "Date                                                             \n",
       "2015-01-02 00:00:00  2283466   936579  411800  2298700  1784200  \n",
       "2015-01-05 00:00:00  4418651  2223873  420300  5326000  3112100  \n",
       "2015-01-06 00:00:00  5004401  1835563  527500  9086500  3977200  \n",
       "2015-01-07 00:00:00  4554134  1505860  467800  2759900  2481800  \n",
       "2015-01-08 00:00:00  4258268  1449004  324400  1831500  3121300  \n",
       "\n",
       "[5 rows x 3018 columns]"
      ]
     },
     "execution_count": 11,
     "metadata": {},
     "output_type": "execute_result"
    }
   ],
   "source": [
    "stock_prices.head()"
   ]
  },
  {
   "cell_type": "code",
   "execution_count": 12,
   "id": "5ea33cc9",
   "metadata": {},
   "outputs": [
    {
     "name": "stdout",
     "output_type": "stream",
     "text": [
      "<class 'pandas.core.frame.DataFrame'>\n",
      "Index: 1992 entries, 2015-01-02 00:00:00 to 2022-11-29 00:00:00\n",
      "Columns: 3018 entries, ('Adj Close', 'A') to ('Volume', 'ZTS')\n",
      "dtypes: float64(2539), int64(479)\n",
      "memory usage: 45.9+ MB\n"
     ]
    }
   ],
   "source": [
    "stock_prices.info()"
   ]
  },
  {
   "cell_type": "code",
   "execution_count": 17,
   "id": "00d48e7e",
   "metadata": {},
   "outputs": [],
   "source": [
    "stock_prices.to_csv(\"../../data/sp500_stock_prices.csv\", index =None)"
   ]
  },
  {
   "cell_type": "code",
   "execution_count": 13,
   "id": "9a7893c3",
   "metadata": {},
   "outputs": [],
   "source": [
    "stock_prices.to_excel(\"../../data/sp500_stock_prices.xlsx\")"
   ]
  }
 ],
 "metadata": {
  "kernelspec": {
   "display_name": "Python 3 (ipykernel)",
   "language": "python",
   "name": "python3"
  },
  "language_info": {
   "codemirror_mode": {
    "name": "ipython",
    "version": 3
   },
   "file_extension": ".py",
   "mimetype": "text/x-python",
   "name": "python",
   "nbconvert_exporter": "python",
   "pygments_lexer": "ipython3",
   "version": "3.9.15"
  }
 },
 "nbformat": 4,
 "nbformat_minor": 5
}
